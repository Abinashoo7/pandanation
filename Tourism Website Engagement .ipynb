{
 "cells": [
  {
   "cell_type": "markdown",
   "id": "2e094aba",
   "metadata": {},
   "source": [
    "# Introduction\n",
    "\n",
    "The objective for an online tourism website is to implement a targeted marketing strategy, transitioning from a broad outreach to a digital approach, in collaboration with a social networking platform. The aim is to understand and leverage the digital and social behavior of customers to deliver targeted digital advertisements to users who exhibit a high likelihood of purchasing travel products.\n",
    "\n",
    "Given the relatively higher cost of digital platform advertisements, precision in model creation becomes paramount. The emphasis is on achieving high accuracy to ensure that the marketing budget is effectively utilized and the digital advertisements effectively reach users with a strong inclination to make travel-related purchases.\n",
    "\n",
    "Recognizing that the propensity to buy tickets varies across different login devices, the task involves developing two separate models—one for laptop users and another for mobile users (where anything other than a laptop is considered as mobile phone usage). This distinction is crucial due to the observed differences in purchasing behavior between these device categories."
   ]
  },
  {
   "cell_type": "code",
   "execution_count": 1,
   "id": "d4d8ddea",
   "metadata": {},
   "outputs": [],
   "source": [
    "# Importing the libraries\n",
    "import pandas as pd\n",
    "import numpy as np\n",
    "import matplotlib.pyplot as plt\n",
    "import seaborn as sns\n",
    "color = sns.color_palette()\n",
    "import plotly.graph_objects as go\n",
    "from plotly.subplots import make_subplots\n",
    "import plotly.express as px\n",
    "import plotly.subplots as sp\n",
    "\n",
    "import warnings\n",
    "warnings.filterwarnings(\"ignore\")"
   ]
  },
  {
   "cell_type": "code",
   "execution_count": 2,
   "id": "c1429c9b",
   "metadata": {},
   "outputs": [],
   "source": [
    "df = pd.read_csv(\"tourism website.csv\")"
   ]
  },
  {
   "cell_type": "code",
   "execution_count": 3,
   "id": "b3888d73",
   "metadata": {},
   "outputs": [
    {
     "data": {
      "text/html": [
       "<div>\n",
       "<style scoped>\n",
       "    .dataframe tbody tr th:only-of-type {\n",
       "        vertical-align: middle;\n",
       "    }\n",
       "\n",
       "    .dataframe tbody tr th {\n",
       "        vertical-align: top;\n",
       "    }\n",
       "\n",
       "    .dataframe thead th {\n",
       "        text-align: right;\n",
       "    }\n",
       "</style>\n",
       "<table border=\"1\" class=\"dataframe\">\n",
       "  <thead>\n",
       "    <tr style=\"text-align: right;\">\n",
       "      <th></th>\n",
       "      <th>UserID</th>\n",
       "      <th>Taken_product</th>\n",
       "      <th>Yearly_avg_view_on_travel_page</th>\n",
       "      <th>preferred_device</th>\n",
       "      <th>total_likes_on_outstation_checkin_given</th>\n",
       "      <th>yearly_avg_Outstation_checkins</th>\n",
       "      <th>member_in_family</th>\n",
       "      <th>preferred_location_type</th>\n",
       "      <th>Yearly_avg_comment_on_travel_page</th>\n",
       "      <th>total_likes_on_outofstation_checkin_received</th>\n",
       "      <th>week_since_last_outstation_checkin</th>\n",
       "      <th>following_company_page</th>\n",
       "      <th>montly_avg_comment_on_company_page</th>\n",
       "      <th>working_flag</th>\n",
       "      <th>travelling_network_rating</th>\n",
       "      <th>Adult_flag</th>\n",
       "      <th>Daily_Avg_mins_spend_on_traveling_page</th>\n",
       "    </tr>\n",
       "  </thead>\n",
       "  <tbody>\n",
       "    <tr>\n",
       "      <th>0</th>\n",
       "      <td>1000001</td>\n",
       "      <td>Yes</td>\n",
       "      <td>307.0</td>\n",
       "      <td>iOS and Android</td>\n",
       "      <td>38570.0</td>\n",
       "      <td>1</td>\n",
       "      <td>2</td>\n",
       "      <td>Financial</td>\n",
       "      <td>94.0</td>\n",
       "      <td>5993</td>\n",
       "      <td>8</td>\n",
       "      <td>Yes</td>\n",
       "      <td>11</td>\n",
       "      <td>No</td>\n",
       "      <td>1</td>\n",
       "      <td>0.0</td>\n",
       "      <td>8.0</td>\n",
       "    </tr>\n",
       "    <tr>\n",
       "      <th>1</th>\n",
       "      <td>1000002</td>\n",
       "      <td>No</td>\n",
       "      <td>367.0</td>\n",
       "      <td>iOS</td>\n",
       "      <td>9765.0</td>\n",
       "      <td>1</td>\n",
       "      <td>1</td>\n",
       "      <td>Financial</td>\n",
       "      <td>61.0</td>\n",
       "      <td>5130</td>\n",
       "      <td>1</td>\n",
       "      <td>No</td>\n",
       "      <td>23</td>\n",
       "      <td>Yes</td>\n",
       "      <td>4</td>\n",
       "      <td>1.0</td>\n",
       "      <td>10.0</td>\n",
       "    </tr>\n",
       "    <tr>\n",
       "      <th>2</th>\n",
       "      <td>1000003</td>\n",
       "      <td>Yes</td>\n",
       "      <td>277.0</td>\n",
       "      <td>iOS and Android</td>\n",
       "      <td>48055.0</td>\n",
       "      <td>1</td>\n",
       "      <td>2</td>\n",
       "      <td>Other</td>\n",
       "      <td>92.0</td>\n",
       "      <td>2090</td>\n",
       "      <td>6</td>\n",
       "      <td>Yes</td>\n",
       "      <td>15</td>\n",
       "      <td>No</td>\n",
       "      <td>2</td>\n",
       "      <td>0.0</td>\n",
       "      <td>7.0</td>\n",
       "    </tr>\n",
       "    <tr>\n",
       "      <th>3</th>\n",
       "      <td>1000004</td>\n",
       "      <td>No</td>\n",
       "      <td>247.0</td>\n",
       "      <td>iOS</td>\n",
       "      <td>48720.0</td>\n",
       "      <td>1</td>\n",
       "      <td>4</td>\n",
       "      <td>Financial</td>\n",
       "      <td>56.0</td>\n",
       "      <td>2909</td>\n",
       "      <td>1</td>\n",
       "      <td>Yes</td>\n",
       "      <td>11</td>\n",
       "      <td>No</td>\n",
       "      <td>3</td>\n",
       "      <td>0.0</td>\n",
       "      <td>8.0</td>\n",
       "    </tr>\n",
       "    <tr>\n",
       "      <th>4</th>\n",
       "      <td>1000005</td>\n",
       "      <td>No</td>\n",
       "      <td>202.0</td>\n",
       "      <td>iOS and Android</td>\n",
       "      <td>20685.0</td>\n",
       "      <td>1</td>\n",
       "      <td>1</td>\n",
       "      <td>Medical</td>\n",
       "      <td>40.0</td>\n",
       "      <td>3468</td>\n",
       "      <td>9</td>\n",
       "      <td>No</td>\n",
       "      <td>12</td>\n",
       "      <td>No</td>\n",
       "      <td>4</td>\n",
       "      <td>1.0</td>\n",
       "      <td>6.0</td>\n",
       "    </tr>\n",
       "    <tr>\n",
       "      <th>5</th>\n",
       "      <td>1000006</td>\n",
       "      <td>No</td>\n",
       "      <td>240.0</td>\n",
       "      <td>iOS</td>\n",
       "      <td>35175.0</td>\n",
       "      <td>1</td>\n",
       "      <td>2</td>\n",
       "      <td>Financial</td>\n",
       "      <td>79.0</td>\n",
       "      <td>3068</td>\n",
       "      <td>0</td>\n",
       "      <td>No</td>\n",
       "      <td>13</td>\n",
       "      <td>No</td>\n",
       "      <td>3</td>\n",
       "      <td>0.0</td>\n",
       "      <td>8.0</td>\n",
       "    </tr>\n",
       "    <tr>\n",
       "      <th>6</th>\n",
       "      <td>1000007</td>\n",
       "      <td>No</td>\n",
       "      <td>NaN</td>\n",
       "      <td>iOS and Android</td>\n",
       "      <td>46340.0</td>\n",
       "      <td>1</td>\n",
       "      <td>Three</td>\n",
       "      <td>Medical</td>\n",
       "      <td>81.0</td>\n",
       "      <td>2670</td>\n",
       "      <td>4</td>\n",
       "      <td>Yes</td>\n",
       "      <td>20</td>\n",
       "      <td>Yes</td>\n",
       "      <td>1</td>\n",
       "      <td>3.0</td>\n",
       "      <td>12.0</td>\n",
       "    </tr>\n",
       "    <tr>\n",
       "      <th>7</th>\n",
       "      <td>1000008</td>\n",
       "      <td>No</td>\n",
       "      <td>225.0</td>\n",
       "      <td>iOS and Android</td>\n",
       "      <td>NaN</td>\n",
       "      <td>24</td>\n",
       "      <td>1</td>\n",
       "      <td>Financial</td>\n",
       "      <td>67.0</td>\n",
       "      <td>2693</td>\n",
       "      <td>1</td>\n",
       "      <td>No</td>\n",
       "      <td>22</td>\n",
       "      <td>Yes</td>\n",
       "      <td>2</td>\n",
       "      <td>1.0</td>\n",
       "      <td>1.0</td>\n",
       "    </tr>\n",
       "    <tr>\n",
       "      <th>8</th>\n",
       "      <td>1000009</td>\n",
       "      <td>No</td>\n",
       "      <td>285.0</td>\n",
       "      <td>iOS</td>\n",
       "      <td>7560.0</td>\n",
       "      <td>23</td>\n",
       "      <td>3</td>\n",
       "      <td>Financial</td>\n",
       "      <td>44.0</td>\n",
       "      <td>9526</td>\n",
       "      <td>0</td>\n",
       "      <td>No</td>\n",
       "      <td>21</td>\n",
       "      <td>Yes</td>\n",
       "      <td>2</td>\n",
       "      <td>0.0</td>\n",
       "      <td>10.0</td>\n",
       "    </tr>\n",
       "    <tr>\n",
       "      <th>9</th>\n",
       "      <td>1000010</td>\n",
       "      <td>No</td>\n",
       "      <td>270.0</td>\n",
       "      <td>iOS and Android</td>\n",
       "      <td>45465.0</td>\n",
       "      <td>27</td>\n",
       "      <td>3</td>\n",
       "      <td>NaN</td>\n",
       "      <td>94.0</td>\n",
       "      <td>5237</td>\n",
       "      <td>6</td>\n",
       "      <td>No</td>\n",
       "      <td>13</td>\n",
       "      <td>No</td>\n",
       "      <td>2</td>\n",
       "      <td>2.0</td>\n",
       "      <td>17.0</td>\n",
       "    </tr>\n",
       "    <tr>\n",
       "      <th>10</th>\n",
       "      <td>1000011</td>\n",
       "      <td>No</td>\n",
       "      <td>262.0</td>\n",
       "      <td>iOS and Android</td>\n",
       "      <td>28315.0</td>\n",
       "      <td>16</td>\n",
       "      <td>3</td>\n",
       "      <td>Medical</td>\n",
       "      <td>84.0</td>\n",
       "      <td>2426</td>\n",
       "      <td>0</td>\n",
       "      <td>No</td>\n",
       "      <td>13</td>\n",
       "      <td>No</td>\n",
       "      <td>3</td>\n",
       "      <td>1.0</td>\n",
       "      <td>6.0</td>\n",
       "    </tr>\n",
       "    <tr>\n",
       "      <th>11</th>\n",
       "      <td>1000012</td>\n",
       "      <td>No</td>\n",
       "      <td>217.0</td>\n",
       "      <td>iOS and Android</td>\n",
       "      <td>5355.0</td>\n",
       "      <td>15</td>\n",
       "      <td>2</td>\n",
       "      <td>Financial</td>\n",
       "      <td>49.0</td>\n",
       "      <td>4193</td>\n",
       "      <td>0</td>\n",
       "      <td>Yeso</td>\n",
       "      <td>4</td>\n",
       "      <td>0</td>\n",
       "      <td>10</td>\n",
       "      <td>NaN</td>\n",
       "      <td>NaN</td>\n",
       "    </tr>\n",
       "    <tr>\n",
       "      <th>12</th>\n",
       "      <td>1000013</td>\n",
       "      <td>No</td>\n",
       "      <td>232.0</td>\n",
       "      <td>iOS and Android</td>\n",
       "      <td>23450.0</td>\n",
       "      <td>26</td>\n",
       "      <td>1</td>\n",
       "      <td>Financial</td>\n",
       "      <td>31.0</td>\n",
       "      <td>2911</td>\n",
       "      <td>1</td>\n",
       "      <td>No</td>\n",
       "      <td>17</td>\n",
       "      <td>No</td>\n",
       "      <td>4</td>\n",
       "      <td>1.0</td>\n",
       "      <td>5.0</td>\n",
       "    </tr>\n",
       "    <tr>\n",
       "      <th>13</th>\n",
       "      <td>1000014</td>\n",
       "      <td>No</td>\n",
       "      <td>255.0</td>\n",
       "      <td>iOS and Android</td>\n",
       "      <td>47110.0</td>\n",
       "      <td>19</td>\n",
       "      <td>2</td>\n",
       "      <td>Medical</td>\n",
       "      <td>93.0</td>\n",
       "      <td>2661</td>\n",
       "      <td>0</td>\n",
       "      <td>No</td>\n",
       "      <td>11</td>\n",
       "      <td>No</td>\n",
       "      <td>3</td>\n",
       "      <td>1.0</td>\n",
       "      <td>3.0</td>\n",
       "    </tr>\n",
       "    <tr>\n",
       "      <th>14</th>\n",
       "      <td>1000015</td>\n",
       "      <td>Yes</td>\n",
       "      <td>210.0</td>\n",
       "      <td>iOS and Android</td>\n",
       "      <td>3605.0</td>\n",
       "      <td>24</td>\n",
       "      <td>3</td>\n",
       "      <td>Financial</td>\n",
       "      <td>50.0</td>\n",
       "      <td>2028</td>\n",
       "      <td>5</td>\n",
       "      <td>Yes</td>\n",
       "      <td>14</td>\n",
       "      <td>No</td>\n",
       "      <td>2</td>\n",
       "      <td>0.0</td>\n",
       "      <td>6.0</td>\n",
       "    </tr>\n",
       "    <tr>\n",
       "      <th>15</th>\n",
       "      <td>1000016</td>\n",
       "      <td>No</td>\n",
       "      <td>217.0</td>\n",
       "      <td>iOS and Android</td>\n",
       "      <td>48615.0</td>\n",
       "      <td>21</td>\n",
       "      <td>4</td>\n",
       "      <td>Financial</td>\n",
       "      <td>51.0</td>\n",
       "      <td>9980</td>\n",
       "      <td>1</td>\n",
       "      <td>No</td>\n",
       "      <td>11</td>\n",
       "      <td>No</td>\n",
       "      <td>3</td>\n",
       "      <td>1.0</td>\n",
       "      <td>10.0</td>\n",
       "    </tr>\n",
       "    <tr>\n",
       "      <th>16</th>\n",
       "      <td>1000017</td>\n",
       "      <td>No</td>\n",
       "      <td>240.0</td>\n",
       "      <td>iOS and Android</td>\n",
       "      <td>NaN</td>\n",
       "      <td>1</td>\n",
       "      <td>2</td>\n",
       "      <td>Financial</td>\n",
       "      <td>80.0</td>\n",
       "      <td>3298</td>\n",
       "      <td>0</td>\n",
       "      <td>Yes</td>\n",
       "      <td>12</td>\n",
       "      <td>No</td>\n",
       "      <td>4</td>\n",
       "      <td>2.0</td>\n",
       "      <td>7.0</td>\n",
       "    </tr>\n",
       "    <tr>\n",
       "      <th>17</th>\n",
       "      <td>1000018</td>\n",
       "      <td>No</td>\n",
       "      <td>165.0</td>\n",
       "      <td>ANDROID</td>\n",
       "      <td>NaN</td>\n",
       "      <td>16</td>\n",
       "      <td>2</td>\n",
       "      <td>Medical</td>\n",
       "      <td>96.0</td>\n",
       "      <td>2935</td>\n",
       "      <td>1</td>\n",
       "      <td>Yes</td>\n",
       "      <td>13</td>\n",
       "      <td>No</td>\n",
       "      <td>2</td>\n",
       "      <td>2.0</td>\n",
       "      <td>1.0</td>\n",
       "    </tr>\n",
       "    <tr>\n",
       "      <th>18</th>\n",
       "      <td>1000019</td>\n",
       "      <td>No</td>\n",
       "      <td>397.0</td>\n",
       "      <td>iOS and Android</td>\n",
       "      <td>42665.0</td>\n",
       "      <td>1</td>\n",
       "      <td>4</td>\n",
       "      <td>Financial</td>\n",
       "      <td>78.0</td>\n",
       "      <td>15427</td>\n",
       "      <td>2</td>\n",
       "      <td>No</td>\n",
       "      <td>16</td>\n",
       "      <td>No</td>\n",
       "      <td>3</td>\n",
       "      <td>0.0</td>\n",
       "      <td>31.0</td>\n",
       "    </tr>\n",
       "    <tr>\n",
       "      <th>19</th>\n",
       "      <td>1000020</td>\n",
       "      <td>No</td>\n",
       "      <td>285.0</td>\n",
       "      <td>iOS and Android</td>\n",
       "      <td>12985.0</td>\n",
       "      <td>1</td>\n",
       "      <td>Three</td>\n",
       "      <td>Financial</td>\n",
       "      <td>45.0</td>\n",
       "      <td>3944</td>\n",
       "      <td>5</td>\n",
       "      <td>Yes</td>\n",
       "      <td>11</td>\n",
       "      <td>No</td>\n",
       "      <td>3</td>\n",
       "      <td>0.0</td>\n",
       "      <td>6.0</td>\n",
       "    </tr>\n",
       "  </tbody>\n",
       "</table>\n",
       "</div>"
      ],
      "text/plain": [
       "     UserID Taken_product  Yearly_avg_view_on_travel_page preferred_device  \\\n",
       "0   1000001           Yes                           307.0  iOS and Android   \n",
       "1   1000002            No                           367.0              iOS   \n",
       "2   1000003           Yes                           277.0  iOS and Android   \n",
       "3   1000004            No                           247.0              iOS   \n",
       "4   1000005            No                           202.0  iOS and Android   \n",
       "5   1000006            No                           240.0              iOS   \n",
       "6   1000007            No                             NaN  iOS and Android   \n",
       "7   1000008            No                           225.0  iOS and Android   \n",
       "8   1000009            No                           285.0              iOS   \n",
       "9   1000010            No                           270.0  iOS and Android   \n",
       "10  1000011            No                           262.0  iOS and Android   \n",
       "11  1000012            No                           217.0  iOS and Android   \n",
       "12  1000013            No                           232.0  iOS and Android   \n",
       "13  1000014            No                           255.0  iOS and Android   \n",
       "14  1000015           Yes                           210.0  iOS and Android   \n",
       "15  1000016            No                           217.0  iOS and Android   \n",
       "16  1000017            No                           240.0  iOS and Android   \n",
       "17  1000018            No                           165.0          ANDROID   \n",
       "18  1000019            No                           397.0  iOS and Android   \n",
       "19  1000020            No                           285.0  iOS and Android   \n",
       "\n",
       "    total_likes_on_outstation_checkin_given yearly_avg_Outstation_checkins  \\\n",
       "0                                   38570.0                              1   \n",
       "1                                    9765.0                              1   \n",
       "2                                   48055.0                              1   \n",
       "3                                   48720.0                              1   \n",
       "4                                   20685.0                              1   \n",
       "5                                   35175.0                              1   \n",
       "6                                   46340.0                              1   \n",
       "7                                       NaN                             24   \n",
       "8                                    7560.0                             23   \n",
       "9                                   45465.0                             27   \n",
       "10                                  28315.0                             16   \n",
       "11                                   5355.0                             15   \n",
       "12                                  23450.0                             26   \n",
       "13                                  47110.0                             19   \n",
       "14                                   3605.0                             24   \n",
       "15                                  48615.0                             21   \n",
       "16                                      NaN                              1   \n",
       "17                                      NaN                             16   \n",
       "18                                  42665.0                              1   \n",
       "19                                  12985.0                              1   \n",
       "\n",
       "   member_in_family preferred_location_type  \\\n",
       "0                 2               Financial   \n",
       "1                 1               Financial   \n",
       "2                 2                   Other   \n",
       "3                 4               Financial   \n",
       "4                 1                 Medical   \n",
       "5                 2               Financial   \n",
       "6             Three                 Medical   \n",
       "7                 1               Financial   \n",
       "8                 3               Financial   \n",
       "9                 3                     NaN   \n",
       "10                3                 Medical   \n",
       "11                2               Financial   \n",
       "12                1               Financial   \n",
       "13                2                 Medical   \n",
       "14                3               Financial   \n",
       "15                4               Financial   \n",
       "16                2               Financial   \n",
       "17                2                 Medical   \n",
       "18                4               Financial   \n",
       "19            Three               Financial   \n",
       "\n",
       "    Yearly_avg_comment_on_travel_page  \\\n",
       "0                                94.0   \n",
       "1                                61.0   \n",
       "2                                92.0   \n",
       "3                                56.0   \n",
       "4                                40.0   \n",
       "5                                79.0   \n",
       "6                                81.0   \n",
       "7                                67.0   \n",
       "8                                44.0   \n",
       "9                                94.0   \n",
       "10                               84.0   \n",
       "11                               49.0   \n",
       "12                               31.0   \n",
       "13                               93.0   \n",
       "14                               50.0   \n",
       "15                               51.0   \n",
       "16                               80.0   \n",
       "17                               96.0   \n",
       "18                               78.0   \n",
       "19                               45.0   \n",
       "\n",
       "    total_likes_on_outofstation_checkin_received  \\\n",
       "0                                           5993   \n",
       "1                                           5130   \n",
       "2                                           2090   \n",
       "3                                           2909   \n",
       "4                                           3468   \n",
       "5                                           3068   \n",
       "6                                           2670   \n",
       "7                                           2693   \n",
       "8                                           9526   \n",
       "9                                           5237   \n",
       "10                                          2426   \n",
       "11                                          4193   \n",
       "12                                          2911   \n",
       "13                                          2661   \n",
       "14                                          2028   \n",
       "15                                          9980   \n",
       "16                                          3298   \n",
       "17                                          2935   \n",
       "18                                         15427   \n",
       "19                                          3944   \n",
       "\n",
       "    week_since_last_outstation_checkin following_company_page  \\\n",
       "0                                    8                    Yes   \n",
       "1                                    1                     No   \n",
       "2                                    6                    Yes   \n",
       "3                                    1                    Yes   \n",
       "4                                    9                     No   \n",
       "5                                    0                     No   \n",
       "6                                    4                    Yes   \n",
       "7                                    1                     No   \n",
       "8                                    0                     No   \n",
       "9                                    6                     No   \n",
       "10                                   0                     No   \n",
       "11                                   0                   Yeso   \n",
       "12                                   1                     No   \n",
       "13                                   0                     No   \n",
       "14                                   5                    Yes   \n",
       "15                                   1                     No   \n",
       "16                                   0                    Yes   \n",
       "17                                   1                    Yes   \n",
       "18                                   2                     No   \n",
       "19                                   5                    Yes   \n",
       "\n",
       "    montly_avg_comment_on_company_page working_flag  \\\n",
       "0                                   11           No   \n",
       "1                                   23          Yes   \n",
       "2                                   15           No   \n",
       "3                                   11           No   \n",
       "4                                   12           No   \n",
       "5                                   13           No   \n",
       "6                                   20          Yes   \n",
       "7                                   22          Yes   \n",
       "8                                   21          Yes   \n",
       "9                                   13           No   \n",
       "10                                  13           No   \n",
       "11                                   4            0   \n",
       "12                                  17           No   \n",
       "13                                  11           No   \n",
       "14                                  14           No   \n",
       "15                                  11           No   \n",
       "16                                  12           No   \n",
       "17                                  13           No   \n",
       "18                                  16           No   \n",
       "19                                  11           No   \n",
       "\n",
       "    travelling_network_rating  Adult_flag  \\\n",
       "0                           1         0.0   \n",
       "1                           4         1.0   \n",
       "2                           2         0.0   \n",
       "3                           3         0.0   \n",
       "4                           4         1.0   \n",
       "5                           3         0.0   \n",
       "6                           1         3.0   \n",
       "7                           2         1.0   \n",
       "8                           2         0.0   \n",
       "9                           2         2.0   \n",
       "10                          3         1.0   \n",
       "11                         10         NaN   \n",
       "12                          4         1.0   \n",
       "13                          3         1.0   \n",
       "14                          2         0.0   \n",
       "15                          3         1.0   \n",
       "16                          4         2.0   \n",
       "17                          2         2.0   \n",
       "18                          3         0.0   \n",
       "19                          3         0.0   \n",
       "\n",
       "    Daily_Avg_mins_spend_on_traveling_page  \n",
       "0                                      8.0  \n",
       "1                                     10.0  \n",
       "2                                      7.0  \n",
       "3                                      8.0  \n",
       "4                                      6.0  \n",
       "5                                      8.0  \n",
       "6                                     12.0  \n",
       "7                                      1.0  \n",
       "8                                     10.0  \n",
       "9                                     17.0  \n",
       "10                                     6.0  \n",
       "11                                     NaN  \n",
       "12                                     5.0  \n",
       "13                                     3.0  \n",
       "14                                     6.0  \n",
       "15                                    10.0  \n",
       "16                                     7.0  \n",
       "17                                     1.0  \n",
       "18                                    31.0  \n",
       "19                                     6.0  "
      ]
     },
     "execution_count": 3,
     "metadata": {},
     "output_type": "execute_result"
    }
   ],
   "source": [
    "df.head(20)"
   ]
  },
  {
   "cell_type": "code",
   "execution_count": 4,
   "id": "ebd50e3f",
   "metadata": {},
   "outputs": [
    {
     "name": "stdout",
     "output_type": "stream",
     "text": [
      "The dataset contains 11760 rows and 17 coloumns\n"
     ]
    }
   ],
   "source": [
    "print(f\"The dataset contains {df.shape[0]} rows and {df.shape[1]} coloumns\")"
   ]
  },
  {
   "cell_type": "code",
   "execution_count": 5,
   "id": "c80584a6",
   "metadata": {},
   "outputs": [
    {
     "name": "stdout",
     "output_type": "stream",
     "text": [
      "<class 'pandas.core.frame.DataFrame'>\n",
      "RangeIndex: 11760 entries, 0 to 11759\n",
      "Data columns (total 17 columns):\n",
      " #   Column                                        Non-Null Count  Dtype  \n",
      "---  ------                                        --------------  -----  \n",
      " 0   UserID                                        11760 non-null  int64  \n",
      " 1   Taken_product                                 11760 non-null  object \n",
      " 2   Yearly_avg_view_on_travel_page                11179 non-null  float64\n",
      " 3   preferred_device                              11707 non-null  object \n",
      " 4   total_likes_on_outstation_checkin_given       11379 non-null  float64\n",
      " 5   yearly_avg_Outstation_checkins                11685 non-null  object \n",
      " 6   member_in_family                              11760 non-null  object \n",
      " 7   preferred_location_type                       11729 non-null  object \n",
      " 8   Yearly_avg_comment_on_travel_page             11554 non-null  float64\n",
      " 9   total_likes_on_outofstation_checkin_received  11760 non-null  int64  \n",
      " 10  week_since_last_outstation_checkin            11760 non-null  int64  \n",
      " 11  following_company_page                        11657 non-null  object \n",
      " 12  montly_avg_comment_on_company_page            11760 non-null  int64  \n",
      " 13  working_flag                                  11760 non-null  object \n",
      " 14  travelling_network_rating                     11760 non-null  int64  \n",
      " 15  Adult_flag                                    11759 non-null  float64\n",
      " 16  Daily_Avg_mins_spend_on_traveling_page        11759 non-null  float64\n",
      "dtypes: float64(5), int64(5), object(7)\n",
      "memory usage: 1.5+ MB\n"
     ]
    }
   ],
   "source": [
    "df.info()"
   ]
  },
  {
   "cell_type": "markdown",
   "id": "7667aca8",
   "metadata": {
    "tags": []
   },
   "source": [
    "## EDA"
   ]
  },
  {
   "cell_type": "markdown",
   "id": "f1489ff5",
   "metadata": {},
   "source": [
    "Data Cleaning"
   ]
  },
  {
   "cell_type": "markdown",
   "id": "bcd6a630",
   "metadata": {
    "tags": []
   },
   "source": [
    "## Categorical Coloumn "
   ]
  },
  {
   "cell_type": "markdown",
   "id": "689b3aff",
   "metadata": {},
   "source": [
    "Lots of Numeric values seems to be tagged as Object, let's find out by checking their values"
   ]
  },
  {
   "cell_type": "code",
   "execution_count": 6,
   "id": "f27e715d",
   "metadata": {},
   "outputs": [
    {
     "name": "stdout",
     "output_type": "stream",
     "text": [
      "Value counts for column 'Taken_product':\n",
      "['Yes' 'No']\n",
      "\n",
      "Value counts for column 'preferred_device':\n",
      "['iOS and Android' 'iOS' 'ANDROID' nan 'Android' 'Android OS' 'Other'\n",
      " 'Others' 'Tab' 'Laptop' 'Mobile']\n",
      "\n",
      "Value counts for column 'yearly_avg_Outstation_checkins':\n",
      "['1' '24' '23' '27' '16' '15' '26' '19' '21' '11' '10' '25' '12' '18' '29'\n",
      " nan '22' '14' '20' '28' '17' '13' '*' '5' '8' '2' '3' '9' '7' '6' '4']\n",
      "\n",
      "Value counts for column 'member_in_family':\n",
      "['2' '1' '4' 'Three' '3' '5' '10']\n",
      "\n",
      "Value counts for column 'preferred_location_type':\n",
      "['Financial' 'Other' 'Medical' nan 'Game' 'Social media' 'Entertainment'\n",
      " 'Tour and Travel' 'Movie' 'OTT' 'Tour  Travel' 'Beach' 'Historical site'\n",
      " 'Big Cities' 'Trekking' 'Hill Stations']\n",
      "\n",
      "Value counts for column 'following_company_page':\n",
      "['Yes' 'No' 'Yeso' nan '1' '0']\n",
      "\n",
      "Value counts for column 'working_flag':\n",
      "['No' 'Yes' '0']\n",
      "\n"
     ]
    }
   ],
   "source": [
    "cat_columns= df.select_dtypes(exclude=['int64', 'float64'] )\n",
    "\n",
    "for col in cat_columns:\n",
    "    print(f\"Value counts for column '{col}':\")\n",
    "    print(df[col].unique())\n",
    "    print()"
   ]
  },
  {
   "cell_type": "markdown",
   "id": "9aed2a7d",
   "metadata": {},
   "source": [
    "We can see that unexpected values present in different columns, apart from Null\n",
    "\n",
    "--preferred_device include different values for same e.g. ANDROID' 'Android\n",
    "--\"*\" present in yearly_avg_Outstation_checkins\n",
    "--\"Three\" present in member_in_family instead of numeric 3\n",
    "--\"Yeso\" instead of Yes in following_company_page along with 1 & 0 & Yes & No\n",
    "--Working flag includes 0 along with No"
   ]
  },
  {
   "cell_type": "code",
   "execution_count": 7,
   "id": "372d7ad7",
   "metadata": {},
   "outputs": [
    {
     "data": {
      "text/plain": [
       "array(['Mobile', nan, 'Laptop'], dtype=object)"
      ]
     },
     "execution_count": 7,
     "metadata": {},
     "output_type": "execute_result"
    }
   ],
   "source": [
    "#Fixing the multiple values in preffered device\n",
    "#Replacing the repeated values with divice mapping\n",
    "\n",
    "device_mapping = {'iOS and Android' : \"Mobile\", 'iOS': \"Mobile\",'ANDROID': \"Mobile\",'Android': \"Mobile\",'Android OS': \"Mobile\",'Other': \"Mobile\",\n",
    "'Others': \"Mobile\",'Tab': \"Mobile\"}\n",
    "df[\"preferred_device\"] = df[\"preferred_device\"].replace(device_mapping)\n",
    "df[\"preferred_device\"].unique()"
   ]
  },
  {
   "cell_type": "code",
   "execution_count": 8,
   "id": "1d5aff24",
   "metadata": {},
   "outputs": [
    {
     "data": {
      "text/plain": [
       "array([ 1., 24., 23., 27., 16., 15., 26., 19., 21., 11., 10., 25., 12.,\n",
       "       18., 29., nan, 22., 14., 20., 28., 17., 13.,  5.,  8.,  2.,  3.,\n",
       "        9.,  7.,  6.,  4.])"
      ]
     },
     "execution_count": 8,
     "metadata": {},
     "output_type": "execute_result"
    }
   ],
   "source": [
    "# \"yearly_avg_Outstation_checkins\" has '* ' in it, Let's replace it with NAN\n",
    "df['yearly_avg_Outstation_checkins']= df['yearly_avg_Outstation_checkins'].replace('*',np.nan)\n",
    "df['yearly_avg_Outstation_checkins'] = pd.to_numeric(df['yearly_avg_Outstation_checkins'], errors='coerce', downcast='integer')\n",
    "\n",
    "df['yearly_avg_Outstation_checkins'].unique()"
   ]
  },
  {
   "cell_type": "code",
   "execution_count": 9,
   "id": "753966c1",
   "metadata": {},
   "outputs": [
    {
     "data": {
      "text/plain": [
       "array([ 1.,  0., nan])"
      ]
     },
     "execution_count": 9,
     "metadata": {},
     "output_type": "execute_result"
    }
   ],
   "source": [
    "# 'following_company_page' column has \"['Yes' 'No' 'Yeso' nan '1' '0']\", let's change all to numeric\n",
    "page_mapping= {'Yes': 1,\n",
    "          'No' : 0,\n",
    "          'Yeso' : 1,\n",
    "              '1': 1,\n",
    "              '0': 0}\n",
    "df['following_company_page'] = df['following_company_page'].replace(page_mapping)\n",
    "df['following_company_page'].unique()"
   ]
  },
  {
   "cell_type": "code",
   "execution_count": 10,
   "id": "028867f9",
   "metadata": {},
   "outputs": [
    {
     "data": {
      "text/plain": [
       "array([ 2,  1,  4,  3,  5, 10], dtype=int8)"
      ]
     },
     "execution_count": 10,
     "metadata": {},
     "output_type": "execute_result"
    }
   ],
   "source": [
    "#column has \"Three\", let's change it to 3\n",
    "df['member_in_family']= df['member_in_family'].replace('Three',3)\n",
    "\n",
    "# Post changing, let's fix the datatype\n",
    "# Post changing, let's fix the datatype\n",
    "df['member_in_family'] = pd.to_numeric(df['member_in_family'], errors='coerce', downcast='integer')\n",
    "df['member_in_family'].unique()"
   ]
  },
  {
   "cell_type": "code",
   "execution_count": 11,
   "id": "adeba3f5",
   "metadata": {},
   "outputs": [
    {
     "data": {
      "text/plain": [
       "array(['No', 'Yes'], dtype=object)"
      ]
     },
     "execution_count": 11,
     "metadata": {},
     "output_type": "execute_result"
    }
   ],
   "source": [
    "#Working flag : Replacing 0 with No and changing it to correct type\n",
    "df['working_flag']= df['working_flag'].replace('0','No')\n",
    "df[\"working_flag\"].unique()"
   ]
  },
  {
   "cell_type": "code",
   "execution_count": 12,
   "id": "7eccae4d",
   "metadata": {},
   "outputs": [
    {
     "data": {
      "text/plain": [
       "array([ 1., 24., 23., 27., 16., 15., 26., 19., 21., 11., 10., 25., 12.,\n",
       "       18., 29., nan, 22., 14., 20., 28., 17., 13.,  5.,  8.,  2.,  3.,\n",
       "        9.,  7.,  6.,  4.])"
      ]
     },
     "execution_count": 12,
     "metadata": {},
     "output_type": "execute_result"
    }
   ],
   "source": [
    "#Value counts for column 'yearly_avg_Outstation_checkins':\n",
    "df['yearly_avg_Outstation_checkins'] = df['yearly_avg_Outstation_checkins'].replace('*',np.nan)\n",
    "df['yearly_avg_Outstation_checkins'] = pd.to_numeric(df['yearly_avg_Outstation_checkins'],errors='coerce', downcast='integer')\n",
    "\n",
    "df['yearly_avg_Outstation_checkins'].unique()"
   ]
  },
  {
   "cell_type": "markdown",
   "id": "21e9ea5e-f6b6-478a-bb2b-c5f9a0ea6508",
   "metadata": {},
   "source": [
    "Adult_flag ahould be a categorical variable"
   ]
  },
  {
   "cell_type": "code",
   "execution_count": 13,
   "id": "561b0ad1",
   "metadata": {},
   "outputs": [],
   "source": [
    "df[[\"Adult_flag\",\"following_company_page\"]] = df[[\"Adult_flag\",\"following_company_page\"]].astype(\"object\")"
   ]
  },
  {
   "cell_type": "code",
   "execution_count": 14,
   "id": "61d4826c",
   "metadata": {},
   "outputs": [
    {
     "name": "stdout",
     "output_type": "stream",
     "text": [
      "<class 'pandas.core.frame.DataFrame'>\n",
      "RangeIndex: 11760 entries, 0 to 11759\n",
      "Data columns (total 17 columns):\n",
      " #   Column                                        Non-Null Count  Dtype  \n",
      "---  ------                                        --------------  -----  \n",
      " 0   UserID                                        11760 non-null  int64  \n",
      " 1   Taken_product                                 11760 non-null  object \n",
      " 2   Yearly_avg_view_on_travel_page                11179 non-null  float64\n",
      " 3   preferred_device                              11707 non-null  object \n",
      " 4   total_likes_on_outstation_checkin_given       11379 non-null  float64\n",
      " 5   yearly_avg_Outstation_checkins                11684 non-null  float64\n",
      " 6   member_in_family                              11760 non-null  int8   \n",
      " 7   preferred_location_type                       11729 non-null  object \n",
      " 8   Yearly_avg_comment_on_travel_page             11554 non-null  float64\n",
      " 9   total_likes_on_outofstation_checkin_received  11760 non-null  int64  \n",
      " 10  week_since_last_outstation_checkin            11760 non-null  int64  \n",
      " 11  following_company_page                        11657 non-null  object \n",
      " 12  montly_avg_comment_on_company_page            11760 non-null  int64  \n",
      " 13  working_flag                                  11760 non-null  object \n",
      " 14  travelling_network_rating                     11760 non-null  int64  \n",
      " 15  Adult_flag                                    11759 non-null  object \n",
      " 16  Daily_Avg_mins_spend_on_traveling_page        11759 non-null  float64\n",
      "dtypes: float64(5), int64(5), int8(1), object(6)\n",
      "memory usage: 1.4+ MB\n"
     ]
    }
   ],
   "source": [
    "df.info()"
   ]
  },
  {
   "cell_type": "markdown",
   "id": "d7e084cc-b472-4218-828d-a45660c6586a",
   "metadata": {},
   "source": [
    "Checking the numeric coloumns"
   ]
  },
  {
   "cell_type": "code",
   "execution_count": 15,
   "id": "393ade0a",
   "metadata": {},
   "outputs": [
    {
     "name": "stdout",
     "output_type": "stream",
     "text": [
      "Columns with negative values:\n",
      "Index([], dtype='object')\n"
     ]
    }
   ],
   "source": [
    "num_columns = df.select_dtypes(exclude=['object']).drop(columns=['UserID'])\n",
    "\n",
    "#Negative values : The dataset features can not have negative values, hence let's see.\n",
    "negative_values = (num_columns < 0).any()\n",
    "print(\"Columns with negative values:\")\n",
    "print(negative_values[negative_values].index)"
   ]
  },
  {
   "cell_type": "markdown",
   "id": "dd01d96a-315b-41f9-8085-7c31be136763",
   "metadata": {},
   "source": [
    "Missing Values"
   ]
  },
  {
   "cell_type": "code",
   "execution_count": 16,
   "id": "6cbde48a",
   "metadata": {},
   "outputs": [],
   "source": [
    "#- Below are the columns & corresponding missing values\n",
    "df = df.applymap(lambda x:np.nan if x == 'nan' else x) #Replacing all NaN values in string to Np.nan, in case any"
   ]
  },
  {
   "cell_type": "markdown",
   "id": "2f86479a-32ef-46df-a832-1dd7c466770e",
   "metadata": {},
   "source": [
    "Total number of missing values"
   ]
  },
  {
   "cell_type": "code",
   "execution_count": 17,
   "id": "d90fe9e6-4ced-4756-bff2-6d08cc103248",
   "metadata": {},
   "outputs": [
    {
     "data": {
      "text/plain": [
       "UserID                                            0\n",
       "Taken_product                                     0\n",
       "Yearly_avg_view_on_travel_page                  581\n",
       "preferred_device                                 53\n",
       "total_likes_on_outstation_checkin_given         381\n",
       "yearly_avg_Outstation_checkins                   76\n",
       "member_in_family                                  0\n",
       "preferred_location_type                          31\n",
       "Yearly_avg_comment_on_travel_page               206\n",
       "total_likes_on_outofstation_checkin_received      0\n",
       "week_since_last_outstation_checkin                0\n",
       "following_company_page                          103\n",
       "montly_avg_comment_on_company_page                0\n",
       "working_flag                                      0\n",
       "travelling_network_rating                         0\n",
       "Adult_flag                                        1\n",
       "Daily_Avg_mins_spend_on_traveling_page            1\n",
       "dtype: int64"
      ]
     },
     "execution_count": 17,
     "metadata": {},
     "output_type": "execute_result"
    }
   ],
   "source": [
    "df.isnull().sum()"
   ]
  },
  {
   "cell_type": "markdown",
   "id": "037da190-3181-444b-911a-df4fd64e5aef",
   "metadata": {},
   "source": [
    "Total size of the dataset"
   ]
  },
  {
   "cell_type": "code",
   "execution_count": 18,
   "id": "c59520db-ad05-4fe5-9c1b-df49a86488a1",
   "metadata": {},
   "outputs": [
    {
     "data": {
      "text/plain": [
       "11760"
      ]
     },
     "execution_count": 18,
     "metadata": {},
     "output_type": "execute_result"
    }
   ],
   "source": [
    "len(df)"
   ]
  },
  {
   "cell_type": "markdown",
   "id": "67a80035-aded-4999-95e6-c1cdd15f407d",
   "metadata": {},
   "source": [
    "Percentage of missing values in each column"
   ]
  },
  {
   "cell_type": "code",
   "execution_count": 19,
   "id": "e79b6912-4a7c-4a79-87b5-35605870fced",
   "metadata": {},
   "outputs": [
    {
     "data": {
      "text/plain": [
       "UserID                                          0.000000\n",
       "Taken_product                                   0.000000\n",
       "Yearly_avg_view_on_travel_page                  4.940476\n",
       "preferred_device                                0.450680\n",
       "total_likes_on_outstation_checkin_given         3.239796\n",
       "yearly_avg_Outstation_checkins                  0.646259\n",
       "member_in_family                                0.000000\n",
       "preferred_location_type                         0.263605\n",
       "Yearly_avg_comment_on_travel_page               1.751701\n",
       "total_likes_on_outofstation_checkin_received    0.000000\n",
       "week_since_last_outstation_checkin              0.000000\n",
       "following_company_page                          0.875850\n",
       "montly_avg_comment_on_company_page              0.000000\n",
       "working_flag                                    0.000000\n",
       "travelling_network_rating                       0.000000\n",
       "Adult_flag                                      0.008503\n",
       "Daily_Avg_mins_spend_on_traveling_page          0.008503\n",
       "dtype: float64"
      ]
     },
     "execution_count": 19,
     "metadata": {},
     "output_type": "execute_result"
    }
   ],
   "source": [
    "df.isnull().sum()/len(df)*100"
   ]
  },
  {
   "cell_type": "markdown",
   "id": "4bff94c0-c7bf-4255-bbb5-46be01a1b80d",
   "metadata": {},
   "source": [
    "Imputing Missing Values\n",
    "\n",
    "None of the columns have more high missing values, hence,we will treat these\n",
    "\n",
    "We will impute all missing\n",
    "\n",
    "in categorical using Mode\n",
    "For all Numeric, we will use Median"
   ]
  },
  {
   "cell_type": "code",
   "execution_count": 20,
   "id": "c7556e18-de76-4407-b859-cb1ec3a21ad4",
   "metadata": {},
   "outputs": [],
   "source": [
    "cat_columns = ['preferred_device', 'preferred_location_type', 'following_company_page', 'working_flag', 'Adult_flag']\n",
    "\n",
    "for i in cat_columns:\n",
    "    df[i].fillna(df[i].mode()[0], inplace = True)"
   ]
  },
  {
   "cell_type": "code",
   "execution_count": 21,
   "id": "f5074fe6-dd0d-4471-9654-916f4af0eb12",
   "metadata": {},
   "outputs": [],
   "source": [
    "num_columns = ['Yearly_avg_view_on_travel_page', 'total_likes_on_outstation_checkin_given', 'yearly_avg_Outstation_checkins', 'Yearly_avg_comment_on_travel_page', 'Daily_Avg_mins_spend_on_traveling_page']\n",
    "for column in num_columns:\n",
    "    median_value = df[column].median()\n",
    "    df[column].fillna(median_value, inplace=True)"
   ]
  },
  {
   "cell_type": "markdown",
   "id": "ae567511-d181-4e55-85b0-197762dfa6f3",
   "metadata": {},
   "source": [
    "Checking the missing values after treatment"
   ]
  },
  {
   "cell_type": "code",
   "execution_count": 22,
   "id": "a4a6722d-0941-4d88-926e-25a47229fa1c",
   "metadata": {},
   "outputs": [
    {
     "data": {
      "text/plain": [
       "UserID                                          0\n",
       "Taken_product                                   0\n",
       "Yearly_avg_view_on_travel_page                  0\n",
       "preferred_device                                0\n",
       "total_likes_on_outstation_checkin_given         0\n",
       "yearly_avg_Outstation_checkins                  0\n",
       "member_in_family                                0\n",
       "preferred_location_type                         0\n",
       "Yearly_avg_comment_on_travel_page               0\n",
       "total_likes_on_outofstation_checkin_received    0\n",
       "week_since_last_outstation_checkin              0\n",
       "following_company_page                          0\n",
       "montly_avg_comment_on_company_page              0\n",
       "working_flag                                    0\n",
       "travelling_network_rating                       0\n",
       "Adult_flag                                      0\n",
       "Daily_Avg_mins_spend_on_traveling_page          0\n",
       "dtype: int64"
      ]
     },
     "execution_count": 22,
     "metadata": {},
     "output_type": "execute_result"
    }
   ],
   "source": [
    "df.isnull().sum()"
   ]
  },
  {
   "cell_type": "markdown",
   "id": "27ef01a2-d129-4954-b54a-f8ef97abdd15",
   "metadata": {},
   "source": [
    "Checking Duplicated values"
   ]
  },
  {
   "cell_type": "code",
   "execution_count": 23,
   "id": "5432b033-4933-4283-beb9-e2053953d917",
   "metadata": {},
   "outputs": [
    {
     "data": {
      "text/plain": [
       "0"
      ]
     },
     "execution_count": 23,
     "metadata": {},
     "output_type": "execute_result"
    }
   ],
   "source": [
    "df.duplicated().sum()"
   ]
  },
  {
   "cell_type": "code",
   "execution_count": 24,
   "id": "44dbe8f4-16a0-427b-b0b3-7a45e1f766e3",
   "metadata": {},
   "outputs": [
    {
     "name": "stdout",
     "output_type": "stream",
     "text": [
      "<class 'pandas.core.frame.DataFrame'>\n",
      "RangeIndex: 11760 entries, 0 to 11759\n",
      "Data columns (total 17 columns):\n",
      " #   Column                                        Non-Null Count  Dtype  \n",
      "---  ------                                        --------------  -----  \n",
      " 0   UserID                                        11760 non-null  int64  \n",
      " 1   Taken_product                                 11760 non-null  object \n",
      " 2   Yearly_avg_view_on_travel_page                11760 non-null  float64\n",
      " 3   preferred_device                              11760 non-null  object \n",
      " 4   total_likes_on_outstation_checkin_given       11760 non-null  float64\n",
      " 5   yearly_avg_Outstation_checkins                11760 non-null  float64\n",
      " 6   member_in_family                              11760 non-null  int64  \n",
      " 7   preferred_location_type                       11760 non-null  object \n",
      " 8   Yearly_avg_comment_on_travel_page             11760 non-null  float64\n",
      " 9   total_likes_on_outofstation_checkin_received  11760 non-null  int64  \n",
      " 10  week_since_last_outstation_checkin            11760 non-null  int64  \n",
      " 11  following_company_page                        11760 non-null  float64\n",
      " 12  montly_avg_comment_on_company_page            11760 non-null  int64  \n",
      " 13  working_flag                                  11760 non-null  object \n",
      " 14  travelling_network_rating                     11760 non-null  int64  \n",
      " 15  Adult_flag                                    11760 non-null  float64\n",
      " 16  Daily_Avg_mins_spend_on_traveling_page        11760 non-null  float64\n",
      "dtypes: float64(7), int64(6), object(4)\n",
      "memory usage: 1.5+ MB\n"
     ]
    }
   ],
   "source": [
    "df.info()"
   ]
  },
  {
   "cell_type": "code",
   "execution_count": 25,
   "id": "437a481c-60ff-4a73-9701-4abfba0f45d8",
   "metadata": {},
   "outputs": [
    {
     "name": "stdout",
     "output_type": "stream",
     "text": [
      "<class 'pandas.core.frame.DataFrame'>\n",
      "RangeIndex: 11760 entries, 0 to 11759\n",
      "Data columns (total 17 columns):\n",
      " #   Column                                        Non-Null Count  Dtype  \n",
      "---  ------                                        --------------  -----  \n",
      " 0   UserID                                        11760 non-null  int64  \n",
      " 1   Taken_product                                 11760 non-null  object \n",
      " 2   Yearly_avg_view_on_travel_page                11760 non-null  float64\n",
      " 3   preferred_device                              11760 non-null  object \n",
      " 4   total_likes_on_outstation_checkin_given       11760 non-null  float64\n",
      " 5   yearly_avg_Outstation_checkins                11760 non-null  float64\n",
      " 6   member_in_family                              11760 non-null  int64  \n",
      " 7   preferred_location_type                       11760 non-null  object \n",
      " 8   Yearly_avg_comment_on_travel_page             11760 non-null  float64\n",
      " 9   total_likes_on_outofstation_checkin_received  11760 non-null  int64  \n",
      " 10  week_since_last_outstation_checkin            11760 non-null  int64  \n",
      " 11  following_company_page                        11760 non-null  float64\n",
      " 12  montly_avg_comment_on_company_page            11760 non-null  int64  \n",
      " 13  working_flag                                  11760 non-null  object \n",
      " 14  travelling_network_rating                     11760 non-null  object \n",
      " 15  Adult_flag                                    11760 non-null  object \n",
      " 16  Daily_Avg_mins_spend_on_traveling_page        11760 non-null  float64\n",
      "dtypes: float64(6), int64(5), object(6)\n",
      "memory usage: 1.5+ MB\n"
     ]
    }
   ],
   "source": [
    "df[[\"travelling_network_rating\", \"Adult_flag\"]]= df[[\"travelling_network_rating\", \"Adult_flag\"]].astype(\"object\")\n",
    "df.info()"
   ]
  },
  {
   "cell_type": "markdown",
   "id": "a0fa20ab-5e48-4321-8956-cb3c91dd31ba",
   "metadata": {},
   "source": [
    "Summary"
   ]
  },
  {
   "cell_type": "code",
   "execution_count": 26,
   "id": "6109c21f-8dde-4d55-96fb-e393739eab5a",
   "metadata": {},
   "outputs": [
    {
     "data": {
      "text/html": [
       "<div>\n",
       "<style scoped>\n",
       "    .dataframe tbody tr th:only-of-type {\n",
       "        vertical-align: middle;\n",
       "    }\n",
       "\n",
       "    .dataframe tbody tr th {\n",
       "        vertical-align: top;\n",
       "    }\n",
       "\n",
       "    .dataframe thead th {\n",
       "        text-align: right;\n",
       "    }\n",
       "</style>\n",
       "<table border=\"1\" class=\"dataframe\">\n",
       "  <thead>\n",
       "    <tr style=\"text-align: right;\">\n",
       "      <th></th>\n",
       "      <th>count</th>\n",
       "      <th>mean</th>\n",
       "      <th>std</th>\n",
       "      <th>min</th>\n",
       "      <th>25%</th>\n",
       "      <th>50%</th>\n",
       "      <th>75%</th>\n",
       "      <th>max</th>\n",
       "    </tr>\n",
       "  </thead>\n",
       "  <tbody>\n",
       "    <tr>\n",
       "      <th>UserID</th>\n",
       "      <td>11760.0</td>\n",
       "      <td>1.005880e+06</td>\n",
       "      <td>3394.963917</td>\n",
       "      <td>1000001.0</td>\n",
       "      <td>1002940.75</td>\n",
       "      <td>1005880.5</td>\n",
       "      <td>1008820.25</td>\n",
       "      <td>1011760.0</td>\n",
       "    </tr>\n",
       "    <tr>\n",
       "      <th>Yearly_avg_view_on_travel_page</th>\n",
       "      <td>11760.0</td>\n",
       "      <td>2.803452e+02</td>\n",
       "      <td>66.511330</td>\n",
       "      <td>35.0</td>\n",
       "      <td>233.00</td>\n",
       "      <td>271.0</td>\n",
       "      <td>322.00</td>\n",
       "      <td>464.0</td>\n",
       "    </tr>\n",
       "    <tr>\n",
       "      <th>total_likes_on_outstation_checkin_given</th>\n",
       "      <td>11760.0</td>\n",
       "      <td>2.816742e+04</td>\n",
       "      <td>14150.080463</td>\n",
       "      <td>3570.0</td>\n",
       "      <td>16697.25</td>\n",
       "      <td>28076.0</td>\n",
       "      <td>40115.25</td>\n",
       "      <td>252430.0</td>\n",
       "    </tr>\n",
       "    <tr>\n",
       "      <th>yearly_avg_Outstation_checkins</th>\n",
       "      <td>11760.0</td>\n",
       "      <td>8.196259e+00</td>\n",
       "      <td>8.650950</td>\n",
       "      <td>1.0</td>\n",
       "      <td>1.00</td>\n",
       "      <td>4.0</td>\n",
       "      <td>14.00</td>\n",
       "      <td>29.0</td>\n",
       "    </tr>\n",
       "    <tr>\n",
       "      <th>member_in_family</th>\n",
       "      <td>11760.0</td>\n",
       "      <td>2.921344e+00</td>\n",
       "      <td>1.044883</td>\n",
       "      <td>1.0</td>\n",
       "      <td>2.00</td>\n",
       "      <td>3.0</td>\n",
       "      <td>4.00</td>\n",
       "      <td>10.0</td>\n",
       "    </tr>\n",
       "    <tr>\n",
       "      <th>Yearly_avg_comment_on_travel_page</th>\n",
       "      <td>11760.0</td>\n",
       "      <td>7.479371e+01</td>\n",
       "      <td>23.815280</td>\n",
       "      <td>3.0</td>\n",
       "      <td>57.00</td>\n",
       "      <td>75.0</td>\n",
       "      <td>92.00</td>\n",
       "      <td>815.0</td>\n",
       "    </tr>\n",
       "    <tr>\n",
       "      <th>total_likes_on_outofstation_checkin_received</th>\n",
       "      <td>11760.0</td>\n",
       "      <td>6.531699e+03</td>\n",
       "      <td>4706.613785</td>\n",
       "      <td>1009.0</td>\n",
       "      <td>2940.75</td>\n",
       "      <td>4948.0</td>\n",
       "      <td>8393.25</td>\n",
       "      <td>20065.0</td>\n",
       "    </tr>\n",
       "    <tr>\n",
       "      <th>week_since_last_outstation_checkin</th>\n",
       "      <td>11760.0</td>\n",
       "      <td>3.203571e+00</td>\n",
       "      <td>2.616365</td>\n",
       "      <td>0.0</td>\n",
       "      <td>1.00</td>\n",
       "      <td>3.0</td>\n",
       "      <td>5.00</td>\n",
       "      <td>11.0</td>\n",
       "    </tr>\n",
       "    <tr>\n",
       "      <th>following_company_page</th>\n",
       "      <td>11760.0</td>\n",
       "      <td>2.803571e-01</td>\n",
       "      <td>0.449193</td>\n",
       "      <td>0.0</td>\n",
       "      <td>0.00</td>\n",
       "      <td>0.0</td>\n",
       "      <td>1.00</td>\n",
       "      <td>1.0</td>\n",
       "    </tr>\n",
       "    <tr>\n",
       "      <th>montly_avg_comment_on_company_page</th>\n",
       "      <td>11760.0</td>\n",
       "      <td>2.866088e+01</td>\n",
       "      <td>48.660793</td>\n",
       "      <td>4.0</td>\n",
       "      <td>17.00</td>\n",
       "      <td>22.0</td>\n",
       "      <td>27.00</td>\n",
       "      <td>500.0</td>\n",
       "    </tr>\n",
       "    <tr>\n",
       "      <th>Daily_Avg_mins_spend_on_traveling_page</th>\n",
       "      <td>11760.0</td>\n",
       "      <td>1.381760e+01</td>\n",
       "      <td>9.070604</td>\n",
       "      <td>0.0</td>\n",
       "      <td>8.00</td>\n",
       "      <td>12.0</td>\n",
       "      <td>18.00</td>\n",
       "      <td>270.0</td>\n",
       "    </tr>\n",
       "  </tbody>\n",
       "</table>\n",
       "</div>"
      ],
      "text/plain": [
       "                                                count          mean  \\\n",
       "UserID                                        11760.0  1.005880e+06   \n",
       "Yearly_avg_view_on_travel_page                11760.0  2.803452e+02   \n",
       "total_likes_on_outstation_checkin_given       11760.0  2.816742e+04   \n",
       "yearly_avg_Outstation_checkins                11760.0  8.196259e+00   \n",
       "member_in_family                              11760.0  2.921344e+00   \n",
       "Yearly_avg_comment_on_travel_page             11760.0  7.479371e+01   \n",
       "total_likes_on_outofstation_checkin_received  11760.0  6.531699e+03   \n",
       "week_since_last_outstation_checkin            11760.0  3.203571e+00   \n",
       "following_company_page                        11760.0  2.803571e-01   \n",
       "montly_avg_comment_on_company_page            11760.0  2.866088e+01   \n",
       "Daily_Avg_mins_spend_on_traveling_page        11760.0  1.381760e+01   \n",
       "\n",
       "                                                       std        min  \\\n",
       "UserID                                         3394.963917  1000001.0   \n",
       "Yearly_avg_view_on_travel_page                   66.511330       35.0   \n",
       "total_likes_on_outstation_checkin_given       14150.080463     3570.0   \n",
       "yearly_avg_Outstation_checkins                    8.650950        1.0   \n",
       "member_in_family                                  1.044883        1.0   \n",
       "Yearly_avg_comment_on_travel_page                23.815280        3.0   \n",
       "total_likes_on_outofstation_checkin_received   4706.613785     1009.0   \n",
       "week_since_last_outstation_checkin                2.616365        0.0   \n",
       "following_company_page                            0.449193        0.0   \n",
       "montly_avg_comment_on_company_page               48.660793        4.0   \n",
       "Daily_Avg_mins_spend_on_traveling_page            9.070604        0.0   \n",
       "\n",
       "                                                     25%        50%  \\\n",
       "UserID                                        1002940.75  1005880.5   \n",
       "Yearly_avg_view_on_travel_page                    233.00      271.0   \n",
       "total_likes_on_outstation_checkin_given         16697.25    28076.0   \n",
       "yearly_avg_Outstation_checkins                      1.00        4.0   \n",
       "member_in_family                                    2.00        3.0   \n",
       "Yearly_avg_comment_on_travel_page                  57.00       75.0   \n",
       "total_likes_on_outofstation_checkin_received     2940.75     4948.0   \n",
       "week_since_last_outstation_checkin                  1.00        3.0   \n",
       "following_company_page                              0.00        0.0   \n",
       "montly_avg_comment_on_company_page                 17.00       22.0   \n",
       "Daily_Avg_mins_spend_on_traveling_page              8.00       12.0   \n",
       "\n",
       "                                                     75%        max  \n",
       "UserID                                        1008820.25  1011760.0  \n",
       "Yearly_avg_view_on_travel_page                    322.00      464.0  \n",
       "total_likes_on_outstation_checkin_given         40115.25   252430.0  \n",
       "yearly_avg_Outstation_checkins                     14.00       29.0  \n",
       "member_in_family                                    4.00       10.0  \n",
       "Yearly_avg_comment_on_travel_page                  92.00      815.0  \n",
       "total_likes_on_outofstation_checkin_received     8393.25    20065.0  \n",
       "week_since_last_outstation_checkin                  5.00       11.0  \n",
       "following_company_page                              1.00        1.0  \n",
       "montly_avg_comment_on_company_page                 27.00      500.0  \n",
       "Daily_Avg_mins_spend_on_traveling_page             18.00      270.0  "
      ]
     },
     "execution_count": 26,
     "metadata": {},
     "output_type": "execute_result"
    }
   ],
   "source": [
    "df.describe().T"
   ]
  },
  {
   "cell_type": "markdown",
   "id": "ff298531-0887-4034-9d05-f1b40e71f159",
   "metadata": {},
   "source": [
    "User Engagement Metrics: Users exhibit varied engagement levels on the platform, as reflected in metrics such as yearly average views on the travel page, total likes on outstation check-ins, and yearly average comments on the travel page.\n",
    "\n",
    "User Demographics: User demographics indicate an average family size of approximately 2.88 members, with variability observed.\n",
    "\n",
    "Check-in Behavior: Users tend to engage in an average of 8.10 outstation check-ins per year, with some variability in behavior. The duration since the last outstation check-in shows variability, potentially influencing current engagement levels.\n",
    "\n",
    "Social Interaction: Social interaction plays a significant role, as seen in the metrics for total likes on out-of-station check-ins received and monthly comments on the company page. These metrics shows the importance of user interactions within the platform.\n",
    "\n",
    "Platform Usage Patterns: Users spend an average of 13.64 minutes daily on the traveling page, with variability in daily engagement."
   ]
  },
  {
   "cell_type": "code",
   "execution_count": 27,
   "id": "2b221b9e-fab8-45fe-a0f9-76a7be20f78a",
   "metadata": {},
   "outputs": [
    {
     "data": {
      "text/html": [
       "<div>\n",
       "<style scoped>\n",
       "    .dataframe tbody tr th:only-of-type {\n",
       "        vertical-align: middle;\n",
       "    }\n",
       "\n",
       "    .dataframe tbody tr th {\n",
       "        vertical-align: top;\n",
       "    }\n",
       "\n",
       "    .dataframe thead th {\n",
       "        text-align: right;\n",
       "    }\n",
       "</style>\n",
       "<table border=\"1\" class=\"dataframe\">\n",
       "  <thead>\n",
       "    <tr style=\"text-align: right;\">\n",
       "      <th></th>\n",
       "      <th>count</th>\n",
       "      <th>unique</th>\n",
       "      <th>top</th>\n",
       "      <th>freq</th>\n",
       "    </tr>\n",
       "  </thead>\n",
       "  <tbody>\n",
       "    <tr>\n",
       "      <th>Taken_product</th>\n",
       "      <td>11760</td>\n",
       "      <td>2</td>\n",
       "      <td>No</td>\n",
       "      <td>9864</td>\n",
       "    </tr>\n",
       "    <tr>\n",
       "      <th>preferred_device</th>\n",
       "      <td>11760</td>\n",
       "      <td>2</td>\n",
       "      <td>Mobile</td>\n",
       "      <td>10652</td>\n",
       "    </tr>\n",
       "    <tr>\n",
       "      <th>preferred_location_type</th>\n",
       "      <td>11760</td>\n",
       "      <td>15</td>\n",
       "      <td>Beach</td>\n",
       "      <td>2455</td>\n",
       "    </tr>\n",
       "    <tr>\n",
       "      <th>working_flag</th>\n",
       "      <td>11760</td>\n",
       "      <td>2</td>\n",
       "      <td>No</td>\n",
       "      <td>9952</td>\n",
       "    </tr>\n",
       "    <tr>\n",
       "      <th>travelling_network_rating</th>\n",
       "      <td>11760</td>\n",
       "      <td>5</td>\n",
       "      <td>3</td>\n",
       "      <td>3672</td>\n",
       "    </tr>\n",
       "    <tr>\n",
       "      <th>Adult_flag</th>\n",
       "      <td>11760.0</td>\n",
       "      <td>4.0</td>\n",
       "      <td>0.0</td>\n",
       "      <td>5048.0</td>\n",
       "    </tr>\n",
       "  </tbody>\n",
       "</table>\n",
       "</div>"
      ],
      "text/plain": [
       "                             count unique     top    freq\n",
       "Taken_product                11760      2      No    9864\n",
       "preferred_device             11760      2  Mobile   10652\n",
       "preferred_location_type      11760     15   Beach    2455\n",
       "working_flag                 11760      2      No    9952\n",
       "travelling_network_rating    11760      5       3    3672\n",
       "Adult_flag                 11760.0    4.0     0.0  5048.0"
      ]
     },
     "execution_count": 27,
     "metadata": {},
     "output_type": "execute_result"
    }
   ],
   "source": [
    "df.select_dtypes(include = ['object']).describe().T\n"
   ]
  },
  {
   "cell_type": "markdown",
   "id": "07900c80-c19a-4298-98e5-a3835433cc0e",
   "metadata": {},
   "source": [
    "User Preferences and Behavior: The majority of users have not taken a specific product (\"Taken_product: No\") and prefer accessing the platform through mobile devices (\"Preferred_device: Mobile\"). This suggests the data is imbalance\n",
    "\n",
    "Location Preferences: The most frequent preferred location type is the \"Beach\", indicating a notable interest in beach-related destinations among users.\n",
    "\n",
    "Social Interaction and Employment Status: A significant portion of users is not actively following company pages (\"Following_company_page: 0\") and may currently be unemployed (\"Working_flag: No\")."
   ]
  },
  {
   "cell_type": "markdown",
   "id": "e56b1ca7-0094-4f8e-a2c7-9d8bb29232cb",
   "metadata": {},
   "source": [
    "Get Correlation between different variables"
   ]
  },
  {
   "cell_type": "code",
   "execution_count": 28,
   "id": "d713dfd0-0d2a-415d-af58-3e17e58845a7",
   "metadata": {},
   "outputs": [
    {
     "data": {
      "text/plain": [
       "Index(['UserID', 'Taken_product', 'Yearly_avg_view_on_travel_page',\n",
       "       'preferred_device', 'total_likes_on_outstation_checkin_given',\n",
       "       'yearly_avg_Outstation_checkins', 'member_in_family',\n",
       "       'preferred_location_type', 'Yearly_avg_comment_on_travel_page',\n",
       "       'total_likes_on_outofstation_checkin_received',\n",
       "       'week_since_last_outstation_checkin', 'following_company_page',\n",
       "       'montly_avg_comment_on_company_page', 'working_flag',\n",
       "       'travelling_network_rating', 'Adult_flag',\n",
       "       'Daily_Avg_mins_spend_on_traveling_page'],\n",
       "      dtype='object')"
      ]
     },
     "execution_count": 28,
     "metadata": {},
     "output_type": "execute_result"
    },
    {
     "data": {
      "image/png": "[encoded data removed]",
      "text/plain": [
       "<Figure size 2000x1000 with 2 Axes>"
      ]
     },
     "metadata": {},
     "output_type": "display_data"
    }
   ],
   "source": [
    "corr = df.corr(method='kendall')\n",
    "plt.figure(figsize=(20,10))\n",
    "sns.heatmap(corr, annot=True)\n",
    "df.columns"
   ]
  },
  {
   "cell_type": "code",
   "execution_count": 32,
   "id": "d3a90e87-a823-4aca-8395-0fd1225f01ee",
   "metadata": {},
   "outputs": [],
   "source": [
    "df.to_csv(\"Tourism_website_engagement_cleaned2.csv\", index = False)"
   ]
  },
  {
   "cell_type": "code",
   "execution_count": 30,
   "id": "2bcf75ae-76f1-4732-90e6-7f2f9c57bc17",
   "metadata": {},
   "outputs": [
    {
     "name": "stdout",
     "output_type": "stream",
     "text": [
      "Value counts for column 'Taken_product':\n",
      "['Yes' 'No']\n",
      "\n",
      "Value counts for column 'preferred_device':\n",
      "['Mobile' 'Laptop']\n",
      "\n",
      "Value counts for column 'preferred_location_type':\n",
      "['Financial' 'Other' 'Medical' 'Beach' 'Game' 'Social media'\n",
      " 'Entertainment' 'Tour and Travel' 'Movie' 'OTT' 'Tour  Travel'\n",
      " 'Historical site' 'Big Cities' 'Trekking' 'Hill Stations']\n",
      "\n",
      "Value counts for column 'working_flag':\n",
      "['No' 'Yes']\n",
      "\n",
      "Value counts for column 'travelling_network_rating':\n",
      "[1 4 2 3 10]\n",
      "\n",
      "Value counts for column 'Adult_flag':\n",
      "[0.0 1.0 3.0 2.0]\n",
      "\n"
     ]
    }
   ],
   "source": [
    "cat_columns= df.select_dtypes(exclude=['int64', 'float64'] )\n",
    "\n",
    "for col in cat_columns:\n",
    "    print(f\"Value counts for column '{col}':\")\n",
    "    print(df[col].unique())\n",
    "    print()"
   ]
  },
  {
   "cell_type": "code",
   "execution_count": null,
   "id": "857d8cc5",
   "metadata": {},
   "outputs": [],
   "source": []
  },
  {
   "cell_type": "code",
   "execution_count": null,
   "id": "c6a96dae",
   "metadata": {},
   "outputs": [],
   "source": []
  }
 ],
 "metadata": {
  "kernelspec": {
   "display_name": "Python 3 (ipykernel)",
   "language": "python",
   "name": "python3"
  },
  "language_info": {
   "codemirror_mode": {
    "name": "ipython",
    "version": 3
   },
   "file_extension": ".py",
   "mimetype": "text/x-python",
   "name": "python",
   "nbconvert_exporter": "python",
   "pygments_lexer": "ipython3",
   "version": "3.9.13"
  }
 },
 "nbformat": 4,
 "nbformat_minor": 5
}
